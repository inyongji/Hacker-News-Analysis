{
 "cells": [
  {
   "cell_type": "markdown",
   "metadata": {
    "collapsed": true
   },
   "source": [
    "# Exploring Hacker News Posts\n",
    "In this project, I will explore Hacker News Posts and try to answer some questions such as:\n",
    "* Do posts that ask questions receive more comments on average than posts that show the Hacker News community a project, product, or just general information?\n",
    "* Do posts created at a certain time receive more comments on average?\n",
    "\n",
    "![here](https://s3.amazonaws.com/dq-content/354/hacker_news.jpg)\n",
    "\n",
    "Hacker News is a site started by the startup incubator Y Combinator, where user-submitted stories (known as \"posts\") are voted and commented upon, similar to reddit. Hacker News is extremely popular in technology and startup circles, and posts that make it to the top of Hacker News' listings can get hundreds of thousands of visitors as a result. The data set used in this project can be found in https://www.kaggle.com/hacker-news/hacker-news-posts."
   ]
  },
  {
   "cell_type": "code",
   "execution_count": 7,
   "metadata": {
    "collapsed": false
   },
   "outputs": [
    {
     "name": "stdout",
     "output_type": "stream",
     "text": [
      "[['id', 'title', 'url', 'num_points', 'num_comments', 'author', 'created_at'], ['12224879', 'Interactive Dynamic Video', 'http://www.interactivedynamicvideo.com/', '386', '52', 'ne0phyte', '8/4/2016 11:52'], ['10975351', 'How to Use Open Source and Shut the Fuck Up at the Same Time', 'http://hueniverse.com/2016/01/26/how-to-use-open-source-and-shut-the-fuck-up-at-the-same-time/', '39', '10', 'josep2', '1/26/2016 19:30'], ['11964716', \"Florida DJs May Face Felony for April Fools' Water Joke\", 'http://www.thewire.com/entertainment/2013/04/florida-djs-april-fools-water-joke/63798/', '2', '1', 'vezycash', '6/23/2016 22:20'], ['11919867', 'Technology ventures: From Idea to Enterprise', 'https://www.amazon.com/Technology-Ventures-Enterprise-Thomas-Byers/dp/0073523429', '3', '1', 'hswarna', '6/17/2016 0:01']]\n"
     ]
    }
   ],
   "source": [
    "import csv as reader\n",
    "opened_file = open('hacker_news.csv')\n",
    "hn = list(csv.reader(opened_file))\n",
    "print(hn[:5])"
   ]
  },
  {
   "cell_type": "code",
   "execution_count": 8,
   "metadata": {
    "collapsed": false
   },
   "outputs": [
    {
     "name": "stdout",
     "output_type": "stream",
     "text": [
      "['id', 'title', 'url', 'num_points', 'num_comments', 'author', 'created_at']\n",
      "[['12224879', 'Interactive Dynamic Video', 'http://www.interactivedynamicvideo.com/', '386', '52', 'ne0phyte', '8/4/2016 11:52'], ['10975351', 'How to Use Open Source and Shut the Fuck Up at the Same Time', 'http://hueniverse.com/2016/01/26/how-to-use-open-source-and-shut-the-fuck-up-at-the-same-time/', '39', '10', 'josep2', '1/26/2016 19:30'], ['11964716', \"Florida DJs May Face Felony for April Fools' Water Joke\", 'http://www.thewire.com/entertainment/2013/04/florida-djs-april-fools-water-joke/63798/', '2', '1', 'vezycash', '6/23/2016 22:20'], ['11919867', 'Technology ventures: From Idea to Enterprise', 'https://www.amazon.com/Technology-Ventures-Enterprise-Thomas-Byers/dp/0073523429', '3', '1', 'hswarna', '6/17/2016 0:01'], ['10301696', 'Note by Note: The Making of Steinway L1037 (2007)', 'http://www.nytimes.com/2007/11/07/movies/07stein.html?_r=0', '8', '2', 'walterbell', '9/30/2015 4:12']]\n"
     ]
    }
   ],
   "source": [
    "headers = hn[0]\n",
    "hn = hn[1:]\n",
    "print(headers)\n",
    "print(hn[:5])"
   ]
  },
  {
   "cell_type": "code",
   "execution_count": 13,
   "metadata": {
    "collapsed": false
   },
   "outputs": [
    {
     "name": "stdout",
     "output_type": "stream",
     "text": [
      "1744\n",
      "1162\n",
      "17194\n",
      "[['12296411', 'Ask HN: How to improve my personal website?', '', '2', '6', 'ahmedbaracat', '8/16/2016 9:55'], ['10610020', 'Ask HN: Am I the only one outraged by Twitter shutting down share counts?', '', '28', '29', 'tkfx', '11/22/2015 13:43'], ['11610310', 'Ask HN: Aby recent changes to CSS that broke mobile?', '', '1', '1', 'polskibus', '5/2/2016 10:14']]\n"
     ]
    }
   ],
   "source": [
    "ask_posts = []\n",
    "show_posts = []\n",
    "other_posts = []\n",
    "\n",
    "for row in hn:\n",
    "    title = row[1]\n",
    "    if title.lower().startswith('ask hn'):\n",
    "        ask_posts.append(row)\n",
    "    elif title.lower().startswith('show hn'):\n",
    "        show_posts.append(row)\n",
    "    else:\n",
    "        other_posts.append(row)\n",
    "        \n",
    "print(len(ask_posts))\n",
    "print(len(show_posts))\n",
    "print(len(other_posts))\n",
    "print(ask_posts[:3])"
   ]
  },
  {
   "cell_type": "code",
   "execution_count": 17,
   "metadata": {
    "collapsed": false
   },
   "outputs": [
    {
     "name": "stdout",
     "output_type": "stream",
     "text": [
      "Average comments in ask posts:  14.038417431192661\n"
     ]
    }
   ],
   "source": [
    "total_ask_comments = 0\n",
    "\n",
    "for row in ask_posts:\n",
    "    total_ask_comments += int(row[4])\n",
    "avg_ask_comments = total_ask_comments/len(ask_posts)\n",
    "print('Average comments in ask posts: ', avg_ask_comments)"
   ]
  },
  {
   "cell_type": "code",
   "execution_count": 18,
   "metadata": {
    "collapsed": false
   },
   "outputs": [
    {
     "name": "stdout",
     "output_type": "stream",
     "text": [
      "Average comments in show posts:  10.31669535283993\n"
     ]
    }
   ],
   "source": [
    "total_show_comments = 0\n",
    "\n",
    "for row in show_posts:\n",
    "    total_show_comments += int(row[4])\n",
    "avg_show_comments = total_show_comments/len(show_posts)\n",
    "print('Average comments in show posts: ', avg_show_comments)"
   ]
  },
  {
   "cell_type": "markdown",
   "metadata": {},
   "source": [
    "The average number of comments on ask posts is about 14 comments per post, which is higher than the of show posts, which is about 10 comments per post. There may be more interaction of users in ask posts as there are usually many users answering a particular post and further questions usually arises. For a show post, most of the comments may be suggestions or acknowledgements.\n",
    "\n",
    "Since ask posts are more likely to receive comments, I'll focus my remaining analysis just on these posts. I'll determine if ask posts created at a certain *time* are more likely to attract comments."
   ]
  },
  {
   "cell_type": "code",
   "execution_count": 20,
   "metadata": {
    "collapsed": false
   },
   "outputs": [
    {
     "name": "stdout",
     "output_type": "stream",
     "text": [
      "[['8/16/2016 9:55', 6], ['11/22/2015 13:43', 29], ['5/2/2016 10:14', 1]]\n"
     ]
    }
   ],
   "source": [
    "import datetime as dt\n",
    "result_list = []\n",
    "\n",
    "for row in ask_posts:\n",
    "    result_list.append([row[6],int(row[4])])\n",
    "    \n",
    "print(result_list[:3])"
   ]
  },
  {
   "cell_type": "code",
   "execution_count": 34,
   "metadata": {
    "collapsed": false
   },
   "outputs": [
    {
     "name": "stdout",
     "output_type": "stream",
     "text": [
      "{'23': 68, '00': 55, '22': 71, '09': 45, '21': 109, '17': 100, '07': 34, '19': 110, '02': 58, '06': 44, '11': 58, '01': 60, '08': 48, '13': 85, '10': 59, '20': 80, '04': 47, '16': 108, '18': 109, '15': 116, '03': 54, '14': 107, '05': 46, '12': 73}\n",
      "{'23': 543, '00': 447, '22': 479, '09': 251, '21': 1745, '17': 1146, '07': 267, '19': 1188, '02': 1381, '06': 397, '11': 641, '01': 683, '08': 492, '13': 1253, '10': 793, '20': 1722, '04': 337, '16': 1814, '18': 1439, '15': 4477, '03': 421, '14': 1416, '05': 464, '12': 687}\n"
     ]
    }
   ],
   "source": [
    "counts_by_hour = {}\n",
    "comments_by_hour = {}\n",
    "\n",
    "for row in result_list:\n",
    "    hour = dt.datetime.strptime(row[0], '%m/%d/%Y %H:%M').strftime('%H')\n",
    "    if hour in counts_by_hour:\n",
    "        counts_by_hour[hour] += 1\n",
    "        comments_by_hour[hour] += row[1]\n",
    "    else:\n",
    "        counts_by_hour[hour] = 1\n",
    "        comments_by_hour[hour] = row[1]\n",
    "        \n",
    "print(counts_by_hour)\n",
    "print(comments_by_hour)"
   ]
  },
  {
   "cell_type": "code",
   "execution_count": 36,
   "metadata": {
    "collapsed": false
   },
   "outputs": [
    {
     "name": "stdout",
     "output_type": "stream",
     "text": [
      "[['23', 7.985294117647059], ['00', 8.127272727272727], ['22', 6.746478873239437], ['09', 5.5777777777777775], ['21', 16.009174311926607], ['17', 11.46], ['07', 7.852941176470588], ['19', 10.8], ['02', 23.810344827586206], ['06', 9.022727272727273], ['11', 11.051724137931034], ['01', 11.383333333333333], ['08', 10.25], ['13', 14.741176470588234], ['10', 13.440677966101696], ['20', 21.525], ['04', 7.170212765957447], ['16', 16.796296296296298], ['18', 13.20183486238532], ['15', 38.5948275862069], ['03', 7.796296296296297], ['14', 13.233644859813085], ['05', 10.08695652173913], ['12', 9.41095890410959]]\n"
     ]
    }
   ],
   "source": [
    "avg_by_hour = []\n",
    "\n",
    "for hour in counts_by_hour:\n",
    "    avg_by_hour.append([hour,comments_by_hour[hour]/counts_by_hour[hour]])\n",
    "    \n",
    "print(avg_by_hour)"
   ]
  },
  {
   "cell_type": "code",
   "execution_count": 40,
   "metadata": {
    "collapsed": false
   },
   "outputs": [
    {
     "name": "stdout",
     "output_type": "stream",
     "text": [
      "[['00', 8.127272727272727],\n",
      " ['01', 11.383333333333333],\n",
      " ['02', 23.810344827586206],\n",
      " ['03', 7.796296296296297],\n",
      " ['04', 7.170212765957447],\n",
      " ['05', 10.08695652173913],\n",
      " ['06', 9.022727272727273],\n",
      " ['07', 7.852941176470588],\n",
      " ['08', 10.25],\n",
      " ['09', 5.5777777777777775],\n",
      " ['10', 13.440677966101696],\n",
      " ['11', 11.051724137931034],\n",
      " ['12', 9.41095890410959],\n",
      " ['13', 14.741176470588234],\n",
      " ['14', 13.233644859813085],\n",
      " ['15', 38.5948275862069],\n",
      " ['16', 16.796296296296298],\n",
      " ['17', 11.46],\n",
      " ['18', 13.20183486238532],\n",
      " ['19', 10.8],\n",
      " ['20', 21.525],\n",
      " ['21', 16.009174311926607],\n",
      " ['22', 6.746478873239437],\n",
      " ['23', 7.985294117647059]]\n"
     ]
    }
   ],
   "source": [
    "import pprint\n",
    "pprint.pprint(sorted(avg_by_hour))"
   ]
  },
  {
   "cell_type": "code",
   "execution_count": 44,
   "metadata": {
    "collapsed": false
   },
   "outputs": [
    {
     "name": "stdout",
     "output_type": "stream",
     "text": [
      "[[38.5948275862069, '15'],\n",
      " [23.810344827586206, '02'],\n",
      " [21.525, '20'],\n",
      " [16.796296296296298, '16'],\n",
      " [16.009174311926607, '21'],\n",
      " [14.741176470588234, '13'],\n",
      " [13.440677966101696, '10'],\n",
      " [13.233644859813085, '14'],\n",
      " [13.20183486238532, '18'],\n",
      " [11.46, '17'],\n",
      " [11.383333333333333, '01'],\n",
      " [11.051724137931034, '11'],\n",
      " [10.8, '19'],\n",
      " [10.25, '08'],\n",
      " [10.08695652173913, '05'],\n",
      " [9.41095890410959, '12'],\n",
      " [9.022727272727273, '06'],\n",
      " [8.127272727272727, '00'],\n",
      " [7.985294117647059, '23'],\n",
      " [7.852941176470588, '07'],\n",
      " [7.796296296296297, '03'],\n",
      " [7.170212765957447, '04'],\n",
      " [6.746478873239437, '22'],\n",
      " [5.5777777777777775, '09']]\n"
     ]
    }
   ],
   "source": [
    "swap_avg_by_hour = []\n",
    "for row in avg_by_hour:\n",
    "    swap_avg_by_hour.append([row[1],row[0]])\n",
    "\n",
    "sorted_swap = sorted(swap_avg_by_hour,reverse=True)\n",
    "pprint.pprint(sorted_swap)"
   ]
  },
  {
   "cell_type": "code",
   "execution_count": 49,
   "metadata": {
    "collapsed": false
   },
   "outputs": [
    {
     "name": "stdout",
     "output_type": "stream",
     "text": [
      "Top 5 Hours for Ask Posts Comments\n",
      "03 PM: 38.59 average comments per post\n",
      "02 AM: 23.81 average comments per post\n",
      "08 PM: 21.52 average comments per post\n",
      "04 PM: 16.80 average comments per post\n",
      "09 PM: 16.01 average comments per post\n"
     ]
    }
   ],
   "source": [
    "print('Top 5 Hours for Ask Posts Comments')\n",
    "\n",
    "for row in sorted_swap[0:5]:\n",
    "    print('{time}: {avg:.2f} average comments per post'.format(time=dt.datetime.strptime(row[1],'%H').strftime('%I %p'),avg=row[0]))"
   ]
  },
  {
   "cell_type": "markdown",
   "metadata": {
    "collapsed": true
   },
   "source": [
    "## Conclusion\n",
    "The hour that received the most average comments in at around 3 PM, with about 38.59 comments on average per post. To maximize the number of comments per post, I recommend posting an ask post around 3 PM."
   ]
  },
  {
   "cell_type": "code",
   "execution_count": null,
   "metadata": {
    "collapsed": true
   },
   "outputs": [],
   "source": []
  }
 ],
 "metadata": {
  "kernelspec": {
   "display_name": "Python 3",
   "language": "python",
   "name": "python3"
  },
  "language_info": {
   "codemirror_mode": {
    "name": "ipython",
    "version": 3
   },
   "file_extension": ".py",
   "mimetype": "text/x-python",
   "name": "python",
   "nbconvert_exporter": "python",
   "pygments_lexer": "ipython3",
   "version": "3.4.3"
  }
 },
 "nbformat": 4,
 "nbformat_minor": 2
}
